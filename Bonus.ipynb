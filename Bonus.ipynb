{
 "cells": [
  {
   "cell_type": "code",
   "execution_count": 10,
   "id": "faab1ad5",
   "metadata": {},
   "outputs": [
    {
     "name": "stdout",
     "output_type": "stream",
     "text": [
      "[[ 2 -1  7  1]\n",
      " [ 3  4 -2  1]\n",
      " [ 1  0  1  0]]\n",
      "\n",
      "Error in the approximation: 7.763833167832662\n"
     ]
    }
   ],
   "source": [
    "import numpy as np\n",
    "\n",
    "# Define the given vectors\n",
    "vt=np.array([[2,-1,7,1],[3,4,-2,1],[1,0,1,0]])\n",
    "print(vt)\n",
    "# Perform SVD\n",
    "U, s, V = np.linalg.svd(vt, full_matrices=False)\n",
    "\n",
    "# Extract the smallest singular value and its corresponding right singular vector\n",
    "smallest_singular_value = s[-1]\n",
    "smallest_singular_vector = V[-1]\n",
    "\n",
    "# Calculate the projection matrix onto the subspace spanned by the smallest singular vector\n",
    "projection_matrix = np.outer(smallest_singular_vector, smallest_singular_vector)\n",
    "\n",
    "# Calculate the projection of the vectors onto the subspace\n",
    "projection = vt.dot(projection_matrix)\n",
    "\n",
    "# Calculate the error in the approximation\n",
    "error = np.linalg.norm(vt - projection, ord=2)\n",
    "\n",
    "print(\"\\nError in the approximation:\", error)\n"
   ]
  }
 ],
 "metadata": {
  "kernelspec": {
   "display_name": "Python 3 (ipykernel)",
   "language": "python",
   "name": "python3"
  },
  "language_info": {
   "codemirror_mode": {
    "name": "ipython",
    "version": 3
   },
   "file_extension": ".py",
   "mimetype": "text/x-python",
   "name": "python",
   "nbconvert_exporter": "python",
   "pygments_lexer": "ipython3",
   "version": "3.10.9"
  }
 },
 "nbformat": 4,
 "nbformat_minor": 5
}
