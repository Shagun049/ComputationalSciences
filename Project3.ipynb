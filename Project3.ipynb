{
 "cells": [
  {
   "cell_type": "markdown",
   "id": "a3a3c43d",
   "metadata": {},
   "source": [
    "# 2nd question"
   ]
  },
  {
   "cell_type": "code",
   "execution_count": 1,
   "id": "889b319c",
   "metadata": {},
   "outputs": [],
   "source": [
    "import numpy as np\n",
    "from matplotlib import pyplot as plt"
   ]
  },
  {
   "cell_type": "code",
   "execution_count": 2,
   "id": "a5408e0b",
   "metadata": {},
   "outputs": [],
   "source": [
    "def f(x):\n",
    "    eq = 100*(x[0] - x[1])**2 + (x[1] - 1)**2\n",
    "    return eq"
   ]
  },
  {
   "cell_type": "code",
   "execution_count": 3,
   "id": "7a8aac55",
   "metadata": {},
   "outputs": [],
   "source": [
    "def grad_f(x):\n",
    "    grad_eq = np.array([200*(x[0] - x[1]), 2*(x[1] - 1)])\n",
    "    return grad_eq"
   ]
  },
  {
   "cell_type": "code",
   "execution_count": 4,
   "id": "1873090b",
   "metadata": {},
   "outputs": [],
   "source": [
    "def backtracking_line_search(x, p):\n",
    "    alp = 1\n",
    "    rho = 0.001\n",
    "    sig = 0.9\n",
    "    c = 0.01\n",
    "    while True:\n",
    "        if f(x + alp*p) > f(x) + c*alp*np.dot(grad_f(x), p):\n",
    "            alp = sig*alp\n",
    "        else:\n",
    "            break\n",
    "    return alp"
   ]
  },
  {
   "cell_type": "code",
   "execution_count": 5,
   "id": "ee069f76",
   "metadata": {},
   "outputs": [
    {
     "name": "stdout",
     "output_type": "stream",
     "text": [
      "The output is:\n"
     ]
    },
    {
     "data": {
      "text/plain": [
       "array([0.        , 0.01939547])"
      ]
     },
     "execution_count": 5,
     "metadata": {},
     "output_type": "execute_result"
    }
   ],
   "source": [
    "# Test the function\n",
    "x = np.array([0, 0])\n",
    "p = -grad_f(x)\n",
    "alpha = backtracking_line_search(x, p)\n",
    "x_new = x + alpha*p\n",
    "x_new"
   ]
  },
  {
   "cell_type": "markdown",
   "id": "45ceb380",
   "metadata": {},
   "source": [
    "# 3rd question"
   ]
  },
  {
   "cell_type": "code",
   "execution_count": 6,
   "id": "745a8233",
   "metadata": {},
   "outputs": [],
   "source": [
    "def backtracking_line_search_3(x, p):\n",
    "    alp = 1\n",
    "    rho = 0.001\n",
    "    c = 0.9\n",
    "    while True:\n",
    "        if f(x + alp*p) > f(x) + rho*alp*np.dot(grad_f(x), p):\n",
    "            alp = c*alp\n",
    "        else:\n",
    "            break\n",
    "    return alp"
   ]
  },
  {
   "cell_type": "code",
   "execution_count": 7,
   "id": "9d1d81d9",
   "metadata": {},
   "outputs": [],
   "source": [
    "def steepest_descent_backtracking_fun(x0, tol, max_iter):\n",
    "    x = x0\n",
    "    error_list = []\n",
    "    with open('sd_backtracking_data.txt', 'w') as file:\n",
    "        file.write('Iteration\\tError\\n')\n",
    "        file.write(f'{0}\\t{np.linalg.norm(x - np.array([1, 1]))}\\n')\n",
    "        error_list.append(np.linalg.norm(x - np.array([1, 1])))\n",
    "\n",
    "        for i in range(1, max_iter+1):\n",
    "            x1 = -grad_f(x)\n",
    "            alp_k = backtracking_line_search_3(x, x1)\n",
    "            x = x + alp_k*x1\n",
    "            error = np.linalg.norm(x - np.array([1, 1]))\n",
    "            error_list.append(error)\n",
    "            file.write(f'{i}\\t{error}\\n')\n",
    "            if error < tol:\n",
    "                break\n",
    "    return x, error_list"
   ]
  },
  {
   "cell_type": "code",
   "execution_count": 8,
   "id": "a29a29f9",
   "metadata": {},
   "outputs": [],
   "source": [
    "# Testing the function\n",
    "x0 = np.array([0, 0])\n",
    "tol = 1e-10\n",
    "max_iter = 3000\n",
    "x, error_list = steepest_descent_backtracking_fun(x0, tol, max_iter)"
   ]
  },
  {
   "cell_type": "code",
   "execution_count": 9,
   "id": "1d4921e4",
   "metadata": {},
   "outputs": [
    {
     "name": "stdout",
     "output_type": "stream",
     "text": [
      "Graph is: \n"
     ]
    },
    {
     "data": {
      "image/png": "[encoded data removed]",
      "text/plain": [
       "<Figure size 432x288 with 1 Axes>"
      ]
     },
     "metadata": {
      "needs_background": "light"
     },
     "output_type": "display_data"
    }
   ],
   "source": [
    "# Plot the error vs iteration number\n",
    "import matplotlib.pyplot as plt\n",
    "plt.plot(np.arange(len(error_list)), error_list)\n",
    "plt.xlabel('Iteration')\n",
    "plt.ylabel('Error')\n",
    "plt.title('Steepest Descent with Backtracking')\n",
    "plt.show()"
   ]
  },
  {
   "cell_type": "markdown",
   "id": "c23e8050",
   "metadata": {},
   "source": [
    "# 4th question"
   ]
  },
  {
   "cell_type": "code",
   "execution_count": 10,
   "id": "42bacc04",
   "metadata": {},
   "outputs": [],
   "source": [
    "def f_4(x):\n",
    "    eq = 100*(x[0] - x[1])**2 + (x[1] - 1)**2\n",
    "    return eq"
   ]
  },
  {
   "cell_type": "code",
   "execution_count": 11,
   "id": "ef483fb7",
   "metadata": {},
   "outputs": [],
   "source": [
    "def gradient_function(x):\n",
    "    gd = np.array([200*(x[0] - x[1]), - 200*(x[0] - x[1]) + 2*(x[1] - 1)])\n",
    "    return gd"
   ]
  },
  {
   "cell_type": "code",
   "execution_count": 12,
   "id": "da1ce0f2",
   "metadata": {},
   "outputs": [],
   "source": [
    "def backtracking_line_search_4(x, p):\n",
    "    alpha=1.0\n",
    "    rho=0.9\n",
    "    c=0.001\n",
    "    while f_4(x + alpha*p) > f_4(x) + c*alpha*np.dot(gradient_function(x), p):\n",
    "        alpha *= rho\n",
    "    return alpha\n"
   ]
  },
  {
   "cell_type": "code",
   "execution_count": 17,
   "id": "bc8fb7e7",
   "metadata": {},
   "outputs": [],
   "source": [
    "def bfgs(x0, tol, m):\n",
    "    x_value = x0\n",
    "    k=0\n",
    "    error = np.linalg.norm(x_value - np.array([1, 1]))\n",
    "    H = np.eye(2)\n",
    "    error_list = []\n",
    "    with open('bfgs_data.txt', 'w') as file:\n",
    "        file.write('Iteration\\tError\\n')\n",
    "        file.write(f'{k}\\t{error}\\n')\n",
    "        while True:\n",
    "            if error < tol:\n",
    "                break\n",
    "            init_grad_value = -np.dot(H, gradient_function(x_value))\n",
    "            alpha_value = backtracking_line_search_4(x_value, init_grad_value)\n",
    "            updated_x = x_value + alpha_value*init_grad_value\n",
    "            x_temp = updated_x - x_value\n",
    "            grad_value = gradient_function(updated_x) - gradient_function(x_value)\n",
    "            rho_value = 1 / np.dot(grad_value.T, x_temp)\n",
    "            H = (np.eye(2) - rho_value*np.dot(x_temp, grad_value.T)) @ H @ (np.eye(2) - rho_value*np.dot(grad_value, x_temp.T)) + rho_value*np.dot(x_temp, grad_value.T)\n",
    "            x_value = updated_x\n",
    "            error_list.append(error)\n",
    "            error = np.linalg.norm(x_value - np.array([1, 1]))\n",
    "            k += 1\n",
    "            file.write(f'{k}\\t{error}\\n')\n",
    "    return x_value,error_list"
   ]
  },
  {
   "cell_type": "code",
   "execution_count": 16,
   "id": "f89742fc",
   "metadata": {},
   "outputs": [
    {
     "name": "stdout",
     "output_type": "stream",
     "text": [
      "Inital error is  1.4142135623730951\n"
     ]
    }
   ],
   "source": [
    "# Test the function\n",
    "x0 = np.array([0, 0])\n",
    "tol = 1e-10\n",
    "xs,error_lists = bfgs(x0,tol,1000)"
   ]
  },
  {
   "cell_type": "code",
   "execution_count": 18,
   "id": "f79b0a5a",
   "metadata": {},
   "outputs": [
    {
     "name": "stdout",
     "output_type": "stream",
     "text": [
      "Error list is : \n"
     ]
    },
    {
     "data": {
      "text/plain": [
       "[1.4142135623730951,\n",
       " 1.400566041014594,\n",
       " 1.3740835248413337,\n",
       " 1.3345465203948852,\n",
       " 1.2820163493408567,\n",
       " 1.2216723677259982,\n",
       " 1.1541396513956375,\n",
       " 1.0752545747115845,\n",
       " 0.9948244738100871,\n",
       " 0.9052509984801332,\n",
       " 0.820513035440695,\n",
       " 0.7282665952930977,\n",
       " 0.6473931185232821,\n",
       " 0.5674884199138632,\n",
       " 0.501191689714958,\n",
       " 0.4222627788805437,\n",
       " 0.3666103011690123,\n",
       " 0.3061921556918261,\n",
       " 0.2607709832863934,\n",
       " 0.21246668529141297,\n",
       " 0.17760304256925324,\n",
       " 0.1409314073805691,\n",
       " 0.11576231899291203,\n",
       " 0.08926473942070876,\n",
       " 0.07220523586376264,\n",
       " 0.05393688275745139,\n",
       " 0.043128424121694015,\n",
       " 0.031073622780602665,\n",
       " 0.024728450029200297,\n",
       " 0.01708450771553159,\n",
       " 0.013692238557974665,\n",
       " 0.009014146174633449,\n",
       " 0.007419762786542805,\n",
       " 0.0046511410212014504,\n",
       " 0.004039292421215799,\n",
       " 0.002465293837191527,\n",
       " 0.0022987425802630354,\n",
       " 0.001450912528423882,\n",
       " 0.0014159471812057027,\n",
       " 0.000977889813218616,\n",
       " 0.0009455838468569332,\n",
       " 0.0007154285687625243,\n",
       " 0.000667055892717833,\n",
       " 0.0005369648481554337,\n",
       " 0.0004843725433446128,\n",
       " 0.00040393197091945085,\n",
       " 0.0003566509094540568,\n",
       " 0.000302997450361267,\n",
       " 0.000264407659523255,\n",
       " 0.00022672316771203698,\n",
       " 0.00019672039941632426,\n",
       " 0.00016943376319193687,\n",
       " 0.00014665168532369187,\n",
       " 0.00012657390685128498,\n",
       " 0.00010946006644486827,\n",
       " 9.457053951318922e-05,\n",
       " 8.17714381703122e-05,\n",
       " 7.068893863658848e-05,\n",
       " 6.113091085013191e-05,\n",
       " 5.28673704724234e-05,\n",
       " 4.5731176619296465e-05,\n",
       " 3.956336331482481e-05,\n",
       " 3.4233725254094115e-05,\n",
       " 2.9626794759169914e-05,\n",
       " 2.5644366769755623e-05,\n",
       " 2.2201093252465083e-05,\n",
       " 1.9223591631131773e-05,\n",
       " 1.6648422022537997e-05,\n",
       " 1.4420874538223745e-05,\n",
       " 1.2493704940842403e-05,\n",
       " 1.0826133579586655e-05,\n",
       " 9.382947528670374e-06,\n",
       " 8.133740110565664e-06,\n",
       " 7.052250199961792e-06,\n",
       " 6.115794442579396e-06,\n",
       " 5.30477700071882e-06,\n",
       " 4.6022670049884994e-06,\n",
       " 3.993634045761605e-06,\n",
       " 3.4662337900054273e-06,\n",
       " 3.0091367730025127e-06,\n",
       " 2.6128944161635045e-06,\n",
       " 2.2693371399722496e-06,\n",
       " 1.971400144569735e-06,\n",
       " 1.7129730544150845e-06,\n",
       " 1.4887701376723885e-06,\n",
       " 1.2942182738847263e-06,\n",
       " 1.1253602305720753e-06,\n",
       " 9.787711455763768e-07,\n",
       " 8.514864032152649e-07,\n",
       " 7.409393407522685e-07,\n",
       " 6.449074410223844e-07,\n",
       " 5.614658443892908e-07,\n",
       " 4.889471831947681e-07,\n",
       " 4.2590687092238464e-07,\n",
       " 3.7109310264794066e-07,\n",
       " 3.234209229853021e-07,\n",
       " 2.81949806788956e-07,\n",
       " 2.458642728774945e-07,\n",
       " 2.144571203337065e-07,\n",
       " 1.8711492754365472e-07,\n",
       " 1.6330550903375023e-07,\n",
       " 1.4256706103731457e-07,\n",
       " 1.2449877092877803e-07,\n",
       " 1.087526875519623e-07,\n",
       " 9.502668548450916e-08,\n",
       " 8.305837237384368e-08,\n",
       " 7.261981332115003e-08,\n",
       " 6.351296193691769e-08,\n",
       " 5.556570254496267e-08,\n",
       " 4.862842045272749e-08,\n",
       " 4.257103074004545e-08,\n",
       " 3.728040236174388e-08,\n",
       " 3.2658125032730376e-08,\n",
       " 2.8618573381002496e-08,\n",
       " 2.5087228540083872e-08,\n",
       " 2.1999220626308577e-08,\n",
       " 1.929806655750414e-08,\n",
       " 1.6934572365790085e-08,\n",
       " 1.4865882382261012e-08,\n",
       " 1.3054652607793605e-08,\n",
       " 1.1468334125308712e-08,\n",
       " 1.0078549265087129e-08,\n",
       " 8.860551302922676e-09,\n",
       " 7.792753198827946e-09,\n",
       " 6.856319604100266e-09,\n",
       " 6.0348118940439476e-09,\n",
       " 5.313879208912734e-09,\n",
       " 4.680989264956262e-09,\n",
       " 4.125195334789997e-09,\n",
       " 3.636932891028167e-09,\n",
       " 3.2078426640822825e-09,\n",
       " 2.8306167484277452e-09,\n",
       " 2.498864026149268e-09,\n",
       " 2.206994343617137e-09,\n",
       " 1.950116141100739e-09,\n",
       " 1.7239480881813382e-09,\n",
       " 1.5247415318775555e-09,\n",
       " 1.349213745964898e-09,\n",
       " 1.1944883634087743e-09,\n",
       " 1.0580451052719529e-09,\n",
       " 9.3767485438861e-10,\n",
       " 8.314399667696002e-10,\n",
       " 7.376411042000594e-10,\n",
       " 6.547873439354403e-10,\n",
       " 5.81569700323964e-10,\n",
       " 5.168391184971779e-10,\n",
       " 4.595863208639731e-10,\n",
       " 4.0892449874194515e-10,\n",
       " 3.6407437846774835e-10,\n",
       " 3.2435065468235395e-10,\n",
       " 2.8915096596589326e-10,\n",
       " 2.5794493854486954e-10,\n",
       " 2.30266002341024e-10,\n",
       " 2.057032354602312e-10,\n",
       " 1.838946888509511e-10,\n",
       " 1.6452197090256244e-10,\n",
       " 1.4730382986321726e-10,\n",
       " 1.3199245882376556e-10,\n",
       " 1.183696288806627e-10,\n",
       " 1.0624256699644579e-10]"
      ]
     },
     "execution_count": 18,
     "metadata": {},
     "output_type": "execute_result"
    }
   ],
   "source": [
    "error_lists"
   ]
  },
  {
   "cell_type": "markdown",
   "id": "44c40971",
   "metadata": {},
   "source": [
    "Below is the graph:"
   ]
  },
  {
   "cell_type": "code",
   "execution_count": 23,
   "id": "895ce57b",
   "metadata": {},
   "outputs": [
    {
     "data": {
      "image/png": "[encoded data removed]",
      "text/plain": [
       "<Figure size 432x288 with 1 Axes>"
      ]
     },
     "metadata": {
      "needs_background": "light"
     },
     "output_type": "display_data"
    }
   ],
   "source": [
    "# Plot the error vs iteration number\n",
    "k = np.arange(len(error_lists))\n",
    "import matplotlib.pyplot as plt\n",
    "plt.plot(k, error_lists)\n",
    "plt.xlabel('Iterations')\n",
    "plt.ylabel('Error')\n",
    "plt.title('BFGS')\n",
    "plt.show()"
   ]
  },
  {
   "cell_type": "code",
   "execution_count": 20,
   "id": "c31ef60b",
   "metadata": {},
   "outputs": [],
   "source": [
    "log_error_values=np.log(error_lists)"
   ]
  },
  {
   "cell_type": "code",
   "execution_count": 24,
   "id": "037dd5a3",
   "metadata": {},
   "outputs": [
    {
     "data": {
      "text/plain": [
       "array([ 3.46573590e-01,  3.36876470e-01,  3.17786982e-01,  2.88591549e-01,\n",
       "        2.48434111e-01,  2.00220713e-01,  1.43355176e-01,  7.25574472e-02,\n",
       "       -5.18896562e-03, -9.95430273e-02, -1.97825481e-01, -3.17088095e-01,\n",
       "       -4.34801567e-01, -5.66534935e-01, -6.90766637e-01, -8.62127460e-01,\n",
       "       -1.00345584e+00, -1.18354241e+00, -1.34411272e+00, -1.54897008e+00,\n",
       "       -1.72820432e+00, -1.95948198e+00, -2.15621616e+00, -2.41614872e+00,\n",
       "       -2.62824272e+00, -2.91994075e+00, -3.14357301e+00, -3.47139596e+00,\n",
       "       -3.69980088e+00, -4.06958321e+00, -4.29092614e+00, -4.70896014e+00,\n",
       "       -4.90360819e+00, -5.37064271e+00, -5.51168575e+00, -6.00544427e+00,\n",
       "       -6.07539301e+00, -6.53556259e+00, -6.55995659e+00, -6.93011356e+00,\n",
       "       -6.96370799e+00, -7.24262880e+00, -7.31263672e+00, -7.52957793e+00,\n",
       "       -7.63265623e+00, -7.81426408e+00, -7.93875310e+00, -8.10178617e+00,\n",
       "       -8.23801848e+00, -8.39178081e+00, -8.53372713e+00, -8.68304849e+00,\n",
       "       -8.82745027e+00, -8.97468418e+00, -9.11995077e+00, -9.26616455e+00,\n",
       "       -9.41158254e+00, -9.55722145e+00, -9.70249291e+00, -9.84772422e+00,\n",
       "       -9.99273029e+00, -1.01376070e+01, -1.02822993e+01, -1.04268314e+01,\n",
       "       -1.05711866e+01, -1.07153690e+01, -1.08593723e+01, -1.10031951e+01,\n",
       "       -1.11468338e+01, -1.12902856e+01, -1.14335476e+01, -1.15766166e+01,\n",
       "       -1.17194897e+01, -1.18621638e+01, -1.20046359e+01, -1.21469028e+01,\n",
       "       -1.22889615e+01, -1.24308090e+01, -1.25724419e+01, -1.27138573e+01,\n",
       "       -1.28550520e+01, -1.29960228e+01, -1.31367665e+01, -1.32772801e+01,\n",
       "       -1.34175602e+01, -1.35576037e+01, -1.36974074e+01, -1.38369680e+01,\n",
       "       -1.39762823e+01, -1.41153471e+01, -1.42541590e+01, -1.43927149e+01,\n",
       "       -1.45310114e+01, -1.46690451e+01, -1.48068129e+01, -1.49443112e+01,\n",
       "       -1.50815368e+01, -1.52184862e+01, -1.53551560e+01, -1.54915428e+01,\n",
       "       -1.56276431e+01, -1.57634533e+01, -1.58989700e+01, -1.60341895e+01,\n",
       "       -1.61691081e+01, -1.63037222e+01, -1.64380280e+01, -1.65720218e+01,\n",
       "       -1.67056997e+01, -1.68390577e+01, -1.69720918e+01, -1.71047981e+01,\n",
       "       -1.72371722e+01, -1.73692099e+01, -1.75009069e+01, -1.76322588e+01,\n",
       "       -1.77632609e+01, -1.78939086e+01, -1.80241970e+01, -1.81541212e+01,\n",
       "       -1.82836762e+01, -1.84128565e+01, -1.85416569e+01, -1.86700716e+01,\n",
       "       -1.87980950e+01, -1.89257212e+01, -1.90529437e+01, -1.91797564e+01,\n",
       "       -1.93061525e+01, -1.94321251e+01, -1.95576672e+01, -1.96827712e+01,\n",
       "       -1.98074296e+01, -1.99316343e+01, -2.00553769e+01, -2.01786488e+01,\n",
       "       -2.03014409e+01, -2.04237438e+01, -2.05455479e+01, -2.06668429e+01,\n",
       "       -2.07876179e+01, -2.09078620e+01, -2.10275637e+01, -2.11467106e+01,\n",
       "       -2.12652903e+01, -2.13832895e+01, -2.15006943e+01, -2.16174906e+01,\n",
       "       -2.17336629e+01, -2.18491959e+01, -2.19640722e+01, -2.20782750e+01,\n",
       "       -2.21917859e+01, -2.23045866e+01, -2.24166579e+01, -2.25279770e+01,\n",
       "       -2.26385238e+01, -2.27482763e+01, -2.28572089e+01, -2.29652963e+01])"
      ]
     },
     "execution_count": 24,
     "metadata": {},
     "output_type": "execute_result"
    }
   ],
   "source": [
    "log_error_values"
   ]
  },
  {
   "cell_type": "code",
   "execution_count": 25,
   "id": "75106870",
   "metadata": {},
   "outputs": [
    {
     "data": {
      "image/png": "[encoded data removed]",
      "text/plain": [
       "<Figure size 432x288 with 1 Axes>"
      ]
     },
     "metadata": {
      "needs_background": "light"
     },
     "output_type": "display_data"
    }
   ],
   "source": [
    "# Plot the error vs iteration number\n",
    "k = np.arange(len(log_error_values))\n",
    "import matplotlib.pyplot as plt\n",
    "plt.plot(k, log_error_values)\n",
    "plt.xlabel('Iterations')\n",
    "plt.ylabel('Log error ')\n",
    "plt.title('BFGS')\n",
    "plt.show()"
   ]
  },
  {
   "cell_type": "code",
   "execution_count": null,
   "id": "1e13c1d8",
   "metadata": {},
   "outputs": [],
   "source": []
  }
 ],
 "metadata": {
  "kernelspec": {
   "display_name": "Python 3 (ipykernel)",
   "language": "python",
   "name": "python3"
  },
  "language_info": {
   "codemirror_mode": {
    "name": "ipython",
    "version": 3
   },
   "file_extension": ".py",
   "mimetype": "text/x-python",
   "name": "python",
   "nbconvert_exporter": "python",
   "pygments_lexer": "ipython3",
   "version": "3.9.12"
  }
 },
 "nbformat": 4,
 "nbformat_minor": 5
}
